{
 "cells": [
  {
   "cell_type": "code",
   "execution_count": 3,
   "id": "9f8b9390-7bc6-4ef0-9018-5aaf38ff7050",
   "metadata": {},
   "outputs": [
    {
     "name": "stderr",
     "output_type": "stream",
     "text": [
      "C:\\Users\\cemgo\\AppData\\Local\\Temp\\ipykernel_5320\\2361992840.py:2: DeprecationWarning: \n",
      "Pyarrow will become a required dependency of pandas in the next major release of pandas (pandas 3.0),\n",
      "(to allow more performant data types, such as the Arrow string type, and better interoperability with other libraries)\n",
      "but was not found to be installed on your system.\n",
      "If this would cause problems for you,\n",
      "please provide us feedback at https://github.com/pandas-dev/pandas/issues/54466\n",
      "        \n",
      "  import pandas as pd\n"
     ]
    }
   ],
   "source": [
    "import numpy as np\n",
    "import pandas as pd\n",
    "import matplotlib.pyplot as plt\n",
    "from sklearn.model_selection import train_test_split\n",
    "from sklearn.ensemble import RandomForestClassifier\n",
    "from sklearn.metrics import accuracy_score\n",
    "import pickle\n",
    "\n",
    "# Load dataset\n",
    "df = pd.read_csv(\"breast-cancer.csv\")\n"
   ]
  },
  {
   "cell_type": "code",
   "execution_count": 4,
   "id": "03a4cf36-ab43-49fa-82ef-98338ebd797f",
   "metadata": {},
   "outputs": [
    {
     "name": "stdout",
     "output_type": "stream",
     "text": [
      "diagnosis                  0\n",
      "radius_mean                0\n",
      "texture_mean               0\n",
      "perimeter_mean             0\n",
      "area_mean                  0\n",
      "smoothness_mean            0\n",
      "compactness_mean           0\n",
      "concavity_mean             0\n",
      "concave points_mean        0\n",
      "symmetry_mean              0\n",
      "fractal_dimension_mean     0\n",
      "radius_se                  0\n",
      "texture_se                 0\n",
      "perimeter_se               0\n",
      "area_se                    0\n",
      "smoothness_se              0\n",
      "compactness_se             0\n",
      "concavity_se               0\n",
      "concave points_se          0\n",
      "symmetry_se                0\n",
      "fractal_dimension_se       0\n",
      "radius_worst               0\n",
      "texture_worst              0\n",
      "perimeter_worst            0\n",
      "area_worst                 0\n",
      "smoothness_worst           0\n",
      "compactness_worst          0\n",
      "concavity_worst            0\n",
      "concave points_worst       0\n",
      "symmetry_worst             0\n",
      "fractal_dimension_worst    0\n",
      "dtype: int64\n"
     ]
    }
   ],
   "source": [
    "# Dropping the 'id' column\n",
    "df.drop(['id'], axis=1, inplace=True)\n",
    "\n",
    "# Check for null values (if any)\n",
    "print(df.isnull().sum())\n",
    "\n",
    "# Splitting the dataset into features and target variable\n",
    "X = df[['radius_mean', 'texture_mean', 'perimeter_mean', 'area_mean', 'smoothness_mean', \n",
    "        'compactness_mean', 'concavity_mean', 'concave points_mean', 'symmetry_mean', \n",
    "        'radius_worst', 'texture_worst', 'perimeter_worst', 'area_worst', 'smoothness_worst', \n",
    "        'compactness_worst', 'concavity_worst', 'concave points_worst', 'symmetry_worst', \n",
    "        'fractal_dimension_worst']]\n",
    "Y = df['diagnosis']\n",
    "\n",
    "# Splitting data into training and testing sets\n",
    "X_train, X_test, Y_train, Y_test = train_test_split(X, Y, test_size=0.2)\n"
   ]
  },
  {
   "cell_type": "code",
   "execution_count": 5,
   "id": "5ac0c4d7-fddc-4af7-8f95-65e272d5d0d4",
   "metadata": {},
   "outputs": [
    {
     "name": "stdout",
     "output_type": "stream",
     "text": [
      "Model Accuracy on Test Data: 0.9473684210526315\n"
     ]
    }
   ],
   "source": [
    "# Initialize and train the RandomForestClassifier\n",
    "model = RandomForestClassifier(n_estimators=100, criterion='gini', oob_score=True)\n",
    "model.fit(X_train, Y_train)\n",
    "\n",
    "# Model Evaluation\n",
    "print(\"Model Accuracy on Test Data:\", model.score(X_test, Y_test))\n"
   ]
  },
  {
   "cell_type": "code",
   "execution_count": 6,
   "id": "ccdae34a-9c09-46d0-b4bc-001f44ffba32",
   "metadata": {},
   "outputs": [],
   "source": [
    "# Save the trained model using pickle\n",
    "filename = 'finalized_model.sav'\n",
    "pickle.dump(model, open(filename, 'wb'))\n",
    "\n",
    "# This file can now be loaded in a Streamlit app or another Python script\n"
   ]
  },
  {
   "cell_type": "code",
   "execution_count": 7,
   "id": "1d811def-3725-475d-9876-394da91c495d",
   "metadata": {},
   "outputs": [
    {
     "name": "stdout",
     "output_type": "stream",
     "text": [
      "Prediction for the patient: ['B']\n",
      "Accuracy on Test Data: 0.9473684210526315\n"
     ]
    },
    {
     "name": "stderr",
     "output_type": "stream",
     "text": [
      "C:\\Users\\cemgo\\AppData\\Local\\Programs\\Python\\Python312\\Lib\\site-packages\\sklearn\\base.py:493: UserWarning: X does not have valid feature names, but RandomForestClassifier was fitted with feature names\n",
      "  warnings.warn(\n"
     ]
    }
   ],
   "source": [
    "# Example: Making a prediction with a new data point\n",
    "patient = [14, 16, 89, 575, 0.1023, 0.05, 0.04, 0.234, 0.186, 14.98, 22, 99, 654.24, 0.3, 0.2, 0.1, 0.5, 0.6, 0.001345]\n",
    "patient1 = np.array([patient])\n",
    "prediction = model.predict(patient1)\n",
    "print(\"Prediction for the patient:\", prediction)\n",
    "\n",
    "# Predicting on the test set\n",
    "y_pred = model.predict(X_test)\n",
    "print(\"Accuracy on Test Data:\", accuracy_score(y_pred, Y_test))\n"
   ]
  },
  {
   "cell_type": "code",
   "execution_count": null,
   "id": "428023c7-7cf2-4857-bfdc-92942e56009c",
   "metadata": {},
   "outputs": [],
   "source": []
  }
 ],
 "metadata": {
  "kernelspec": {
   "display_name": "Python 3 (ipykernel)",
   "language": "python",
   "name": "python3"
  },
  "language_info": {
   "codemirror_mode": {
    "name": "ipython",
    "version": 3
   },
   "file_extension": ".py",
   "mimetype": "text/x-python",
   "name": "python",
   "nbconvert_exporter": "python",
   "pygments_lexer": "ipython3",
   "version": "3.12.1"
  }
 },
 "nbformat": 4,
 "nbformat_minor": 5
}
